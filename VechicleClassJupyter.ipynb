{
 "cells": [
  {
   "cell_type": "code",
   "execution_count": 57,
   "id": "700ec938-6e46-4d1e-9814-cf2c82862f43",
   "metadata": {},
   "outputs": [],
   "source": [
    "import pandas as pd\n",
    "import numpy as np\n",
    "from sklearn.ensemble import RandomForestClassifier\n",
    "from sklearn.model_selection import train_test_split\n",
    "from sklearn.metrics import accuracy_score\n",
    "from sklearn.preprocessing import MinMaxScaler\n",
    "from sklearn.preprocessing import LabelEncoder\n",
    "from sklearn.model_selection import cross_val_score\n",
    "from sklearn.tree import DecisionTreeClassifier\n",
    "from sklearn.ensemble import BaggingClassifier\n",
    "from sklearn.svm import SVC\n",
    "from sklearn.linear_model import LogisticRegression\n",
    "from sklearn.neighbors import KNeighborsClassifier\n",
    "from sklearn.model_selection import GridSearchCV\n",
    "from sklearn.model_selection import RandomizedSearchCV\n",
    "from sklearn.preprocessing import LabelEncoder\n",
    "from sklearn.metrics import confusion_matrix\n",
    "from sklearn.metrics import ConfusionMatrixDisplay\n",
    "import os\n",
    "\n",
    "os.environ['OMP_NUM_THREADS'] = '1'\n",
    "\n",
    "df = pd.read_csv(\"CarTypeProject.csv\")\n",
    "df = df.drop(columns = ['url'])"
   ]
  },
  {
   "cell_type": "code",
   "execution_count": 58,
   "id": "952629fa-0bfe-4e0a-9828-eb6f26062dd6",
   "metadata": {},
   "outputs": [],
   "source": [
    "#Data Preprocessing\n",
    "le = LabelEncoder()\n",
    "df['body_type'] = le.fit_transform(df['body_type'])\n",
    "df = pd.get_dummies(df, dtype = int)\n",
    "\n",
    "mms = MinMaxScaler()\n",
    "cols = ['horsepower', 'MPG', 'seats', 'curb_weight', 'length', 'width', 'height', 'wheel_base']\n",
    "df[cols] = mms.fit_transform(df[cols])\n",
    "\n",
    "y = df['body_type'].values\n",
    "X = df.drop(columns = 'body_type').values\n"
   ]
  },
  {
   "cell_type": "code",
   "execution_count": 59,
   "id": "85cfa0eb-b5be-436f-a26e-0c90aaf2c050",
   "metadata": {},
   "outputs": [
    {
     "name": "stdout",
     "output_type": "stream",
     "text": [
      "Average accuracy of Decision Tree:  0.9580159939070829\n",
      "Average accuracy of Random Forest:  0.9613480578827108\n",
      "Average accuracy of SVM:  0.9783891850723525\n",
      "Average Accuracy of Bagging (Decision Tree) :  0.9538271134805786\n"
     ]
    }
   ],
   "source": [
    "#Classifiers\n",
    "forest = RandomForestClassifier(criterion = 'entropy', max_depth = None, n_estimators = 100, n_jobs = -1)\n",
    "tree = DecisionTreeClassifier(criterion = 'entropy', max_depth = 20)\n",
    "lr = LogisticRegression(C=0.1, solver='liblinear', max_iter = 10000) \n",
    "knn = KNeighborsClassifier(n_neighbors = 4, p = 2, metric = 'minkowski')\n",
    "bag = BaggingClassifier(estimator = tree, n_estimators = 20, max_samples = 0.6, max_features = 1.0,\n",
    "                        bootstrap = True, bootstrap_features = False, n_jobs= -1)\n",
    "svm = SVC(kernel='linear', C=100)\n",
    "\n",
    "\n",
    "#Classifier Testing\n",
    "score =0\n",
    "runs = 0\n",
    "\n",
    "while True:\n",
    "    while runs <= 100:\n",
    "        X_train, X_test, y_train, y_test = train_test_split(X,y, test_size=0.3, stratify=y)\n",
    "        \n",
    "        tree.fit(X_train,y_train)\n",
    "        y_pred = tree.predict(X_test)\n",
    "        \n",
    "        score += accuracy_score(y_test,y_pred)\n",
    "        runs += 1\n",
    "\n",
    "    print('Average accuracy of Decision Tree: ', (score/runs))\n",
    "    score = 0\n",
    "    runs = 0\n",
    "    \n",
    "    #Random Forest Classifier\n",
    "    while runs <= 100:\n",
    "        X_train, X_test, y_train, y_test = train_test_split(X,y, test_size=0.3, stratify=y)\n",
    "\n",
    "        forest.fit(X_train, y_train)\n",
    "        y_pred = forest.predict(X_test)\n",
    "    \n",
    "        score += accuracy_score(y_test,y_pred)\n",
    "        runs += 1\n",
    "\n",
    "    print('Average accuracy of Random Forest: ', (score/runs))\n",
    "    score = 0\n",
    "    runs = 0\n",
    "    \n",
    "    #SVM Classifier\n",
    "    while runs <= 100:\n",
    "        X_train, X_test, y_train, y_test = train_test_split(X,y, test_size=0.3, stratify=y)\n",
    "        \n",
    "        svm.fit(X_train, y_train)\n",
    "        \n",
    "        y_pred = svm.predict(X_test)\n",
    "        \n",
    "        score += accuracy_score(y_test,y_pred)\n",
    "        runs += 1\n",
    "        \n",
    "    print('Average accuracy of SVM: ', (score/runs))\n",
    "    score = 0\n",
    "    runs = 0\n",
    "\n",
    "     # Bagging\n",
    "    while runs <= 100:\n",
    "        X_train, X_test, y_train, y_test = train_test_split(X,y, test_size=0.3,stratify=y)\n",
    "        \n",
    "        bag.fit(X_train, y_train)\n",
    "        \n",
    "        y_pred = bag.predict(X_test)\n",
    "        score += accuracy_score(y_pred, y_test)\n",
    "        runs += 1\n",
    "        \n",
    "    print('Average Accuracy of Bagging (Decision Tree) : ', (score/runs))\n",
    "    score = 0\n",
    "    runs = 0\n",
    "    \n",
    "    break\n",
    "\n"
   ]
  },
  {
   "cell_type": "code",
   "execution_count": 60,
   "id": "94b1488e-eacb-41f6-9986-9404df03ba99",
   "metadata": {},
   "outputs": [
    {
     "data": {
      "text/plain": [
       "<sklearn.metrics._plot.confusion_matrix.ConfusionMatrixDisplay at 0x1f57ed923f0>"
      ]
     },
     "execution_count": 60,
     "metadata": {},
     "output_type": "execute_result"
    },
    {
     "data": {
      "image/png": "[encoded data removed]",
      "text/plain": [
       "<Figure size 640x480 with 2 Axes>"
      ]
     },
     "metadata": {},
     "output_type": "display_data"
    }
   ],
   "source": [
    "#SVM confusion matrix\n",
    "y_pred = svm.predict(X_test)\n",
    "cm = confusion_matrix(y_test,y_pred)\n",
    "disp = ConfusionMatrixDisplay(confusion_matrix = cm)\n",
    "disp.plot()"
   ]
  },
  {
   "cell_type": "code",
   "execution_count": 61,
   "id": "237fecf4-ab12-49f0-99c6-1c862e496355",
   "metadata": {},
   "outputs": [],
   "source": [
    "#Cross-Validation \n",
    "\n",
    "#scores = cross_val_score(estimator = svm, X=X_train,y=y_train,cv=10,n_jobs=1)\n",
    "#print(f'CV accuracy: {np.mean(scores):.3f}')\n",
    "#scores"
   ]
  },
  {
   "cell_type": "code",
   "execution_count": 62,
   "id": "c7456779-5a20-45b0-94f9-ce52735f272a",
   "metadata": {},
   "outputs": [],
   "source": [
    "#Parameter Tuning\n",
    "\n",
    "#param_depth = [None,4,5,6,7,8,9,10,15,20]\n",
    "#param_estimators = [5,10,15,20,50,100,500]\n",
    "#param_C = [0.01, 0.1, 1, 10, 100]\n",
    "#param_grid ={'kernel':['linear', 'rbf'], 'C':param_C}\n",
    "#gs= GridSearchCV(estimator=svm , param_grid=param_grid, scoring = 'accuracy')\n",
    "#gs.fit(X_train,y_train)\n",
    "#print(gs.best_score_)\n",
    "#print(gs.best_params_)"
   ]
  },
  {
   "cell_type": "code",
   "execution_count": null,
   "id": "abc1a73d-7efa-4a92-b253-9aadb40a1cad",
   "metadata": {},
   "outputs": [],
   "source": []
  },
  {
   "cell_type": "code",
   "execution_count": null,
   "id": "b2e70d57-4c42-459a-953d-37926011f3aa",
   "metadata": {},
   "outputs": [],
   "source": []
  }
 ],
 "metadata": {
  "kernelspec": {
   "display_name": "Python [conda env:base] *",
   "language": "python",
   "name": "conda-base-py"
  },
  "language_info": {
   "codemirror_mode": {
    "name": "ipython",
    "version": 3
   },
   "file_extension": ".py",
   "mimetype": "text/x-python",
   "name": "python",
   "nbconvert_exporter": "python",
   "pygments_lexer": "ipython3",
   "version": "3.12.7"
  }
 },
 "nbformat": 4,
 "nbformat_minor": 5
}
